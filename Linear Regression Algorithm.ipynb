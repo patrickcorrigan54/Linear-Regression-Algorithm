{
 "cells": [
  {
   "cell_type": "markdown",
   "metadata": {},
   "source": [
    "# Linear Regression\n",
    "### Patrick Corrigan\n",
    "This is a Linear Trendline Generator. It randomly generates 50 points that are approximately on the line y = 1.25x + 6. The linear regression algorithm takes these points as inputs and generates a prediction for what the trendline is. It is shown below that the algorithm produces a fairly accurate prediction as to what the line of best fit is. "
   ]
  },
  {
   "cell_type": "markdown",
   "metadata": {},
   "source": [
    "### Importing Scientific Packages\n",
    "This cell imports the packages NumPy, Pandas, MatPlotLib, and SciKit-Learn."
   ]
  },
  {
   "cell_type": "code",
   "execution_count": 1,
   "metadata": {},
   "outputs": [],
   "source": [
    "import numpy as np\n",
    "from numpy import random\n",
    "\n",
    "import pandas as pd\n",
    "\n",
    "import matplotlib.pyplot as plt\n",
    "from mpl_toolkits import mplot3d\n",
    "%matplotlib inline\n",
    "%reload_ext autoreload\n",
    "%autoreload 2\n",
    "\n",
    "from sklearn import datasets\n",
    "from sklearn.model_selection import train_test_split\n",
    "from sklearn.metrics import r2_score\n",
    "from scipy import interpolate"
   ]
  },
  {
   "cell_type": "markdown",
   "metadata": {},
   "source": [
    "### Data Generator\n",
    "This cell generates 50 points approximately along the line y = 1.25x + 6. These points are used as inputs for the linear regression algorithm. All datapoints and parameters are saved to CSV files."
   ]
  },
  {
   "cell_type": "code",
   "execution_count": 2,
   "metadata": {},
   "outputs": [
    {
     "name": "stdout",
     "output_type": "stream",
     "text": [
      "             Parameters\n",
      "Point count       50.00\n",
      "Error              0.05\n",
      "Slope              1.25\n",
      "Y Intercept        6.00\n",
      "\n"
     ]
    },
    {
     "data": {
      "image/png": "[encoded data removed]",
      "text/plain": [
       "<Figure size 432x432 with 1 Axes>"
      ]
     },
     "metadata": {
      "needs_background": "light"
     },
     "output_type": "display_data"
    }
   ],
   "source": [
    "def remove_indices(length):\n",
    "    indices_list = []\n",
    "    for i in range (0, length):\n",
    "        indices_list.append('')\n",
    "    return indices_list\n",
    "\n",
    "n = 50\n",
    "error = 0.05\n",
    "slope = 1.25\n",
    "y_int = 6\n",
    "data_array = np.zeros((n,2))\n",
    "\n",
    "for i in range(0, n):\n",
    "    data_array[i, 0] = i\n",
    "    dev = n * error * random.uniform(-1, 1)\n",
    "    y_val = (slope*i+y_int) + dev\n",
    "    data_array[i, 1] = y_val\n",
    "\n",
    "data_df = pd.DataFrame(data_array, index = remove_indices(len(data_array)), columns = ['X_val', 'Y_val'])\n",
    "param_df = pd.DataFrame([[n],[error],[slope],[y_int]], \n",
    "                        columns = ['Parameters'], \n",
    "                        index = ['Point count', 'Error', 'Slope', 'Y Intercept'], )\n",
    "\n",
    "data_df.to_csv(('LinearRegressionData'), index = True)\n",
    "param_df.to_csv(('LinearRegressionDataParameters'))\n",
    "\n",
    "print(param_df)\n",
    "print()\n",
    "\n",
    "fig = plt.figure(figsize = (6,6))\n",
    "axes = fig.add_axes([0.1,0.1,0.9,0.9])\n",
    "axes.set_title('Generated Points')\n",
    "axes.scatter(data_df['X_val'], data_df['Y_val']);"
   ]
  },
  {
   "cell_type": "markdown",
   "metadata": {},
   "source": [
    "### Linear Regression Algorithm\n",
    "This cell implements the Linear Regression Algorithm. It takes the previous generated points and splits them into test sets and training sets. The training set is used as inputs to determine what the line of best fit is. Gradient descent is used for the optimization algorithm. The predicted equation, as well as the number of repetitions completed, can be found printed out underneath this cell."
   ]
  },
  {
   "cell_type": "code",
   "execution_count": 3,
   "metadata": {},
   "outputs": [
    {
     "name": "stdout",
     "output_type": "stream",
     "text": [
      "Ideal error found!\n",
      "85319 repetitions passed\n",
      "\n",
      "               Theta 1   Theta 2\n",
      "Theta values  1.232015  6.162312\n",
      "\n",
      "The predicted equation is y =  1.232 x +  6.162\n"
     ]
    }
   ],
   "source": [
    "us_data_df = pd.read_csv('LinearRegressionData', index_col = 0)\n",
    "us_param_df = pd.read_csv('LinearRegressionDataParameters', index_col = 0)\n",
    "\n",
    "yval_array = us_data_df[['Y_val']].to_numpy()\n",
    "xval_array = us_data_df[['X_val']].to_numpy()\n",
    "\n",
    "point_count = us_param_df.loc['Point count'].to_numpy()\n",
    "error = us_param_df.loc['Error'].to_numpy()\n",
    "slope = us_param_df.loc['Slope'].to_numpy()\n",
    "y_intercept = us_param_df.loc['Y Intercept'].to_numpy()\n",
    "\n",
    "x_train, x_test, y_train, y_test = train_test_split(xval_array, yval_array, test_size = 0.2)\n",
    "\n",
    "theta_df = pd.DataFrame(random.rand(1,2), index = ['Theta values'], columns = ['Theta 1','Theta 2'])\n",
    "theta_array = theta_df.to_numpy()\n",
    "theta_memory = np.empty((0,4))\n",
    "theta_temp = np.zeros((1,4))\n",
    "theta_temp[0,0] = theta_array[0,0]\n",
    "theta_temp[0,1] = theta_array[0,1]\n",
    "theta_temp[0,2] = 0\n",
    "theta_temp[0,3] = sum((x_train*theta_array[0,0] + theta_array[0,1]) - y_train)\n",
    "\n",
    "theta_memory = np.append(theta_memory, theta_temp, axis = 0)\n",
    "\n",
    "alpha = 10**-3.25\n",
    "num = x_train.shape[0]\n",
    "cost_list = [0]\n",
    "move_num = 0\n",
    "theta_num = 0\n",
    "\n",
    "while move_num <= 10**5:\n",
    "    \n",
    "    h = (x_train*theta_array[0,0] + theta_array[0,1])\n",
    "    cost = h - y_train\n",
    "    dd1 = sum(cost*x_train)\n",
    "    dd2 = sum(cost*1)\n",
    "    theta_df['Theta 1'] = theta_array[0,0] - alpha*(1/num)*dd1\n",
    "    theta_df['Theta 2'] = theta_array[0,1] - alpha*(1/num)*dd2\n",
    "    \n",
    "    s_cost = sum(cost)\n",
    "    diff_cost = abs(s_cost-cost_list[-1])\n",
    "    cost_list.append(s_cost)\n",
    "    \n",
    "    if diff_cost <= 10**-7:\n",
    "        print('Ideal error found!')\n",
    "        print(move_num, 'repetitions passed')\n",
    "        \n",
    "        theta_temp[0,0] = theta_array[0,0]\n",
    "        theta_temp[0,1] = theta_array[0,1]\n",
    "        theta_temp[0,2] = move_num\n",
    "        theta_temp[0,3] = s_cost\n",
    "        \n",
    "        theta_memory = np.append(theta_memory, theta_temp, axis = 0)\n",
    "        \n",
    "        break\n",
    "    else:\n",
    "        pass\n",
    "    \n",
    "    if move_num%20000 == 0 and move_num != 0:\n",
    "        theta_temp[0,0] = theta_array[0,0]\n",
    "        theta_temp[0,1] = theta_array[0,1]\n",
    "        theta_temp[0,2] = move_num\n",
    "        theta_temp[0,3] = s_cost\n",
    "        \n",
    "        theta_memory = np.append(theta_memory, theta_temp, axis = 0)\n",
    "    else:\n",
    "        pass\n",
    "    \n",
    "    move_num += 1\n",
    "\n",
    "theta_memory_df = pd.DataFrame(theta_memory, index = remove_indices(len(theta_memory)), \n",
    "                               columns = ['Theta1','Theta2','Repetition Count','Cost'])    \n",
    "print('')\n",
    "print(theta_df)\n",
    "print('')\n",
    "print('The predicted equation is y = ', round(theta_array[0,0], 3) , 'x + ', round(theta_array[0,1], 3) )"
   ]
  },
  {
   "cell_type": "markdown",
   "metadata": {},
   "source": [
    "### Testing the Linear Regression Algorithm\n",
    "The predicted line of best fit equation from the previous cell is used here to calculate the predicted values for each X value in the test set. The percent error between the predicted values and the actual Y values is averaged together over the test set, to produce the Avg Percent Error, which can be seen below this cell along with the $R^2$ value. There is also a graph that visually displays the predicted line of best fit against the test data, as well as a graph that shows the decreasing cost as the algorithm completes repetitions and trains on the dataset. "
   ]
  },
  {
   "cell_type": "code",
   "execution_count": 4,
   "metadata": {},
   "outputs": [
    {
     "name": "stdout",
     "output_type": "stream",
     "text": [
      "  Avg Percent Error  R Squared\n",
      "              2.288      0.995\n",
      "\n",
      "    Theta1    Theta2  Repetition Count         Cost\n",
      "  0.443806  0.390984               0.0 -1060.838390\n",
      "  1.244269  5.742044           20000.0    -3.909100\n",
      "  1.232910  6.131626           40000.0    -0.286130\n",
      "  1.232078  6.160142           60000.0    -0.020944\n",
      "  1.232018  6.162229           80000.0    -0.001533\n",
      "  1.232015  6.162312           85319.0    -0.000765\n",
      "\n"
     ]
    },
    {
     "data": {
      "image/png": "[encoded data removed]",
      "text/plain": [
       "<Figure size 432x432 with 1 Axes>"
      ]
     },
     "metadata": {
      "needs_background": "light"
     },
     "output_type": "display_data"
    },
    {
     "data": {
      "image/png": "[encoded data removed]",
      "text/plain": [
       "<Figure size 432x432 with 1 Axes>"
      ]
     },
     "metadata": {
      "needs_background": "light"
     },
     "output_type": "display_data"
    }
   ],
   "source": [
    "test = theta_array[0,0] * x_test + theta_array[0,1]\n",
    "percent_err = ((abs(test-y_test))/y_test)*100\n",
    "\n",
    "avg_percent_err = np.zeros((1,2))\n",
    "avg_percent_err[0,0] = sum(percent_err)/len(percent_err)\n",
    "\n",
    "avg_percent_err[0,0] = round(avg_percent_err[0,0], 3)\n",
    "avg_percent_err[0,1] = rsquared = round(r2_score(y_test, test),3)\n",
    "\n",
    "error_df = pd.DataFrame(avg_percent_err, index = [''], \n",
    "                        columns = ['Avg Percent Error', 'R Squared'])\n",
    "dim = len(x_test)\n",
    "y_memory = np.empty((dim,0))\n",
    "\n",
    "for i in range(0, len(theta_memory)):\n",
    "    \n",
    "    y_temp = x_test*theta_memory[i,0] + theta_memory[i,1]\n",
    "    y_memory = np.append(y_memory, y_temp, axis = 1)\n",
    "\n",
    "fig_1 = plt.figure(figsize = (6,6))\n",
    "axes_1 = fig_1.add_axes([0.1,0.1,0.9,0.9])\n",
    "axes_1.set_title('Initial and Final Trendline')\n",
    "axes_1.scatter(x_train,y_train)\n",
    "axes_1.plot(x_test, y_memory[:,0], 'g', label = theta_memory[0,2])\n",
    "axes_1.plot(x_test, y_memory[:,-1], 'r', label = theta_memory[-1,2])\n",
    "axes_1.legend(loc='lower right', title = 'Repetitions')\n",
    "\n",
    "fig_2 = plt.figure(figsize = (6,6))\n",
    "axes_2 = fig_2.add_axes([0.1,0.1,0.9,0.9])\n",
    "axes_2.set_ylabel('Cost')\n",
    "axes_2.set_xlabel('Repetition Count')\n",
    "axes_2.set_title('Cost vs Repetitions')\n",
    "\n",
    "x_2 = (theta_memory_df['Repetition Count'])\n",
    "y_2 = (theta_memory_df['Cost'])*-1\n",
    "x_y_2_spline = interpolate.make_interp_spline(x_2, y_2)\n",
    "x_2_temp = np.linspace(x_2.min(), x_2.max(), 500)\n",
    "y_2_temp = x_y_2_spline(x_2_temp)\n",
    "\n",
    "axes_2.plot(x_2_temp, y_2_temp)\n",
    "\n",
    "print(error_df)\n",
    "print('')\n",
    "print(theta_memory_df)\n",
    "print('')"
   ]
  }
 ],
 "metadata": {
  "kernelspec": {
   "display_name": "Python 3",
   "language": "python",
   "name": "python3"
  },
  "language_info": {
   "codemirror_mode": {
    "name": "ipython",
    "version": 3
   },
   "file_extension": ".py",
   "mimetype": "text/x-python",
   "name": "python",
   "nbconvert_exporter": "python",
   "pygments_lexer": "ipython3",
   "version": "3.7.6"
  }
 },
 "nbformat": 4,
 "nbformat_minor": 4
}
